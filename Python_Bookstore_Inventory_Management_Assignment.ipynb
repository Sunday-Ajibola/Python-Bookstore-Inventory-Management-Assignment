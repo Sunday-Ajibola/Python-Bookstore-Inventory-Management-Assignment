{
  "nbformat": 4,
  "nbformat_minor": 0,
  "metadata": {
    "colab": {
      "provenance": [],
      "include_colab_link": true
    },
    "kernelspec": {
      "name": "python3",
      "display_name": "Python 3"
    },
    "language_info": {
      "name": "python"
    }
  },
  "cells": [
    {
      "cell_type": "markdown",
      "metadata": {
        "id": "view-in-github",
        "colab_type": "text"
      },
      "source": [
        "<a href=\"https://colab.research.google.com/github/Sunday-Ajibola/Python-Bookstore-Inventory-Management-Assignment/blob/main/Python_Bookstore_Inventory_Management_Assignment.ipynb\" target=\"_parent\"><img src=\"https://colab.research.google.com/assets/colab-badge.svg\" alt=\"Open In Colab\"/></a>"
      ]
    },
    {
      "cell_type": "markdown",
      "source": [
        "### Python Bookstore Inventory Management Assignment\n",
        "\n",
        "#### Background:\n",
        "Imagine you are the owner of a small but popular independent bookstore. To keep track of your inventory, you need an efficient system that allows you to manage and update the books in stock easily. As a budding Python programmer, you decide to create a set of functions that will help you automate this process. This assignment will help you apply your Python skills to a real-world scenario, enabling you to manage your bookstore inventory effectively.\n",
        "\n",
        "#### Introduction:\n",
        "In this assignment, you will create several functions to manage a bookstore inventory system. These functions will help you add, remove, and update books, as well as retrieve information about books and calculate the total value of your inventory. You will use a provided inventory list to implement and test your functions.\n",
        "\n",
        "#### Provided Inventory:\n",
        "Below is the existing inventory of books in your bookstore. Each book is represented as a dictionary with specific attributes such as title, author, year, genre, price, and stock."
      ],
      "metadata": {
        "id": "vLcJfKE85Iqu"
      }
    },
    {
      "cell_type": "markdown",
      "source": [
        "**Submission:**\n",
        "* Submit a Notebook file (Go to File > Download > Download .ipynb)  containing your function definitions and test cases.\n",
        "\n",
        "* Include comments in your code to explain your logic.\n",
        "\n",
        "* Ensure your code is clean and well-documented."
      ],
      "metadata": {
        "id": "u-DGE7nBE06m"
      }
    },
    {
      "cell_type": "code",
      "source": [
        "# Existing inventory\n",
        "inventory = {\n",
        "    'To Kill a Mockingbird': {'author': 'Harper Lee', 'year': 1960, 'genre': 'Fiction', 'price': 18.99, 'stock': 5},\n",
        "    '1984': {'author': 'George Orwell', 'year': 1949, 'genre': 'Dystopian', 'price': 14.99, 'stock': 2},\n",
        "    'The Great Gatsby': {'author': 'F. Scott Fitzgerald', 'year': 1925, 'genre': 'Fiction', 'price': 10.99, 'stock': 7},\n",
        "    'Brave New World': {'author': 'Aldous Huxley', 'year': 1932, 'genre': 'Science Fiction', 'price': 15.99, 'stock': 3},\n",
        "    'Harry Potter and the Sorcerer\\'s Stone': {'author': 'J.K. Rowling', 'year': 1997, 'genre': 'Fantasy', 'price': 12.99, 'stock': 10},\n",
        "    'The Da Vinci Code': {'author': 'Dan Brown', 'year': 2003, 'genre': 'Mystery', 'price': 19.99, 'stock': 4},\n",
        "    'Pride and Prejudice': {'author': 'Jane Austen', 'year': 1813, 'genre': 'Romance', 'price': 9.99, 'stock': 6},\n",
        "    'The Book Thief': {'author': 'Markus Zusak', 'year': 2005, 'genre': 'Historical Fiction', 'price': 16.99, 'stock': 5},\n",
        "    'Steve Jobs': {'author': 'Walter Isaacson', 'year': 2011, 'genre': 'Biography', 'price': 22.99, 'stock': 8},\n",
        "    'The Power of Habit': {'author': 'Charles Duhigg', 'year': 2012, 'genre': 'Self-Help', 'price': 13.99, 'stock': 7}\n",
        "}"
      ],
      "metadata": {
        "id": "rTms3aW55JCP"
      },
      "execution_count": 11,
      "outputs": []
    },
    {
      "cell_type": "code",
      "source": [
        "# Example of accessing a book's details\n",
        "book_title = '1984'\n",
        "print(inventory[book_title])"
      ],
      "metadata": {
        "id": "NlF6hsHx5N3_",
        "colab": {
          "base_uri": "https://localhost:8080/"
        },
        "outputId": "acc15b8a-06ee-4b53-867b-eb1126e6975c"
      },
      "execution_count": 12,
      "outputs": [
        {
          "output_type": "stream",
          "name": "stdout",
          "text": [
            "{'author': 'George Orwell', 'year': 1949, 'genre': 'Dystopian', 'price': 14.99, 'stock': 2}\n"
          ]
        }
      ]
    },
    {
      "cell_type": "code",
      "source": [
        "book_title = {'To Kill a Mockingbird',\n",
        "              '1984',\n",
        "              'The Great Gatsby',\n",
        "              'Brave New World',\n",
        "              'Harry Potter and the Sorcerer\\'s Stone',\n",
        "              'The Da Vinci Code',\n",
        "              'Pride and Prejudice',\n",
        "              'The Book Thief',\n",
        "              'Steve Jobs',\n",
        "              'The Power of Habit'\n",
        "}"
      ],
      "metadata": {
        "id": "wOZ8rvfGgMYJ"
      },
      "execution_count": 13,
      "outputs": []
    },
    {
      "cell_type": "markdown",
      "source": [
        "## Function Definitions :"
      ],
      "metadata": {
        "id": "8Buzd_9874xW"
      }
    },
    {
      "cell_type": "markdown",
      "source": [
        "### Add book function\n",
        "   - **Function**: `add_book(inventory, title, details)`\n",
        "   - **Description**: Adds a new book to the inventory.\n",
        "   - **Arguments**:\n",
        "     - `inventory`: A dictionary representing the existing inventory.\n",
        "     - `title`: A string representing the title of the book to be added.\n",
        "     - `details`: A dictionary containing the details of the book (author, year, genre, price, stock).\n",
        "   - **Return**: None\n",
        "   - **Example**:\n",
        "     ```python\n",
        "     new_book_details = {'author': 'J.D. Salinger', 'year': 1951, 'genre': 'Fiction', 'price': 13.99, 'stock': 5}\n",
        "     add_book(inventory, 'The Catcher in the Rye', new_book_details)\n",
        "     ```\n",
        "\n",
        "The test adds a new book, \"The Catcher in the Rye,\" and prints its details to verify it has been added correctly."
      ],
      "metadata": {
        "id": "8gJyLsRFEHQn"
      }
    },
    {
      "cell_type": "code",
      "source": [
        "def add_book(inventory, title, details):\n",
        "  # Check if the book title already exists in the inventory\n",
        "    if title in inventory:\n",
        "        print(f\"'{title}' already exists in the inventory.\")\n",
        "    else:\n",
        "      # Add the book to the inventory\n",
        "        inventory[title] = details\n",
        "        print(f\"'{title}' has been added.\")"
      ],
      "metadata": {
        "id": "AwO-zOu2DH9G"
      },
      "execution_count": 14,
      "outputs": []
    },
    {
      "cell_type": "code",
      "source": [
        "# Test for add_book\n",
        "new_book_details = {'author': 'J.D. Salinger', 'year': 1951, 'genre': 'Fiction', 'price': 13.99, 'stock': 5}\n",
        "add_book(inventory, 'The Catcher in the Rye', new_book_details)\n",
        "print(inventory['The Catcher in the Rye'])"
      ],
      "metadata": {
        "id": "cjgluiFRDwo_",
        "colab": {
          "base_uri": "https://localhost:8080/"
        },
        "outputId": "25213ac0-dc76-4d03-9997-fa3a44442ad5"
      },
      "execution_count": 15,
      "outputs": [
        {
          "output_type": "stream",
          "name": "stdout",
          "text": [
            "'The Catcher in the Rye' has been added.\n",
            "{'author': 'J.D. Salinger', 'year': 1951, 'genre': 'Fiction', 'price': 13.99, 'stock': 5}\n"
          ]
        }
      ]
    },
    {
      "cell_type": "markdown",
      "source": [
        "### Remove book function\n",
        "- **Function**: `remove_book(inventory, title)`\n",
        "   - **Description**: Removes a book by its title from the inventory.\n",
        "   - **Arguments**:\n",
        "     - `inventory`: A dictionary representing the existing inventory.\n",
        "     - `title`: A string representing the title of the book to be removed.\n",
        "   - **Return**: `True` if the book was removed, `False` otherwise\n",
        "   - **Example**:\n",
        "     ```python\n",
        "     result = remove_book(inventory, '1984')\n",
        "     ```\n",
        "\n",
        "The test removes the book \"1984\" and verifies the result is True and that \"1984\" no longer exists in the inventory."
      ],
      "metadata": {
        "id": "54RVPGBUEJ-O"
      }
    },
    {
      "cell_type": "code",
      "source": [
        "def remove_book(inventory, title):\n",
        "  # Check if book title exists in the inventory\n",
        "  if title in inventory:\n",
        "  # Removes book from inventory if it exists\n",
        "    del inventory[title]\n",
        "    print(f\"'{title}' has been removed from the inventory\")\n",
        "    return True\n",
        "  else:\n",
        "    print(f\"{title} does not exist in the inventory\")\n",
        "    return False"
      ],
      "metadata": {
        "id": "WErG7GgADPBW"
      },
      "execution_count": 16,
      "outputs": []
    },
    {
      "cell_type": "code",
      "source": [
        "# Test for remove_book\n",
        "result = remove_book(inventory, '1984')\n",
        "print(result)  # Should print True\n",
        "print('1984' in inventory)  # Should print False"
      ],
      "metadata": {
        "id": "XelL4k5lEA-n",
        "colab": {
          "base_uri": "https://localhost:8080/"
        },
        "outputId": "ccc44b29-e41b-46d9-ba0a-0ec540562804"
      },
      "execution_count": 17,
      "outputs": [
        {
          "output_type": "stream",
          "name": "stdout",
          "text": [
            "'1984' has been removed from the inventory\n",
            "True\n",
            "False\n"
          ]
        }
      ]
    },
    {
      "cell_type": "markdown",
      "source": [
        "### Update stock function\n",
        "\n",
        "   - **Function**: `update_stock(inventory, title, new_stock)`\n",
        "   - **Description**: Updates the stock quantity of a specified book.\n",
        "   - **Arguments**:\n",
        "     - `inventory`: A dictionary representing the existing inventory.\n",
        "     - `title`: A string representing the title of the book to update.\n",
        "     - `new_stock`: An integer representing the new stock quantity.\n",
        "   - **Return**: `True` if the stock was updated, `False` otherwise\n",
        "   - **Example**:\n",
        "     ```python\n",
        "     result = update_stock(inventory, 'The Great Gatsby', 10)\n",
        "     ```\n",
        "\n",
        "\n",
        "The test updates the stock of \"The Great Gatsby\" to 10 and verifies the result is True and the stock has been updated correctly.\n"
      ],
      "metadata": {
        "id": "9ILAfW-zEPpR"
      }
    },
    {
      "cell_type": "code",
      "source": [
        "def update_stock(inventory, title, new_stock):\n",
        "  # Check if book is in inventory\n",
        "  if title in inventory:\n",
        "  # Update stock of book\n",
        "    inventory[title][\"stock\"] = new_stock\n",
        "    print(f\" Stock for '{title}' has been updated to {new_stock}.\")\n",
        "    return True\n",
        "  else:\n",
        "  # Book not found\n",
        "    print(f\"'{title}' is not in the inventory. Cannot update stock.\")\n",
        "    return False"
      ],
      "metadata": {
        "id": "7XJJpzi1DYpu"
      },
      "execution_count": 18,
      "outputs": []
    },
    {
      "cell_type": "code",
      "source": [
        "# Test for update_stock\n",
        "result = update_stock(inventory, 'The Great Gatsby', 10)\n",
        "print(result)  # Should print True\n",
        "print(inventory['The Great Gatsby']['stock'])  # Should print 10"
      ],
      "metadata": {
        "id": "JDDAJ_3NESe-",
        "colab": {
          "base_uri": "https://localhost:8080/"
        },
        "outputId": "edbe7ae5-56fd-4341-d15b-b6b3f751fcce"
      },
      "execution_count": 19,
      "outputs": [
        {
          "output_type": "stream",
          "name": "stdout",
          "text": [
            " Stock for 'The Great Gatsby' has been updated to 10.\n",
            "True\n",
            "10\n"
          ]
        }
      ]
    },
    {
      "cell_type": "markdown",
      "source": [
        "### Find books by author function\n",
        "\n",
        "- **Function**: `find_books_by_author(inventory, author)`\n",
        "   - **Description**: Finds all books by a specific author.\n",
        "   - **Arguments**:\n",
        "     - `inventory`: A dictionary representing the existing inventory.\n",
        "     - `author`: A string representing the author's name.\n",
        "   - **Return**: A list of dictionaries containing books by the specified author\n",
        "   - **Example**:\n",
        "     ```python\n",
        "     books_by_author = find_books_by_author(inventory, 'George Orwell')\n",
        "     ```\n",
        "\n",
        "\n",
        "The test finds books by \"George Orwell\" and prints the result. Since \"1984\" was removed, it should return an empty list."
      ],
      "metadata": {
        "id": "lz0sJWtOEU5G"
      }
    },
    {
      "cell_type": "code",
      "source": [
        "def find_books_by_author(inventory, author):\n",
        "  # Create an empty list of book titles by same author\n",
        "  books_by_author = []\n",
        "  # Go through every book in the inventory\n",
        "  for title, details in inventory.items():\n",
        "        # Check if the author matches the one we're looking for\n",
        "        if details['author'] == author:\n",
        "            # If it matches, add the title to the list\n",
        "            books_by_author.append(title)\n",
        "\n",
        "    # Return the list of found titles (could be empty if no match)\n",
        "  return books_by_author"
      ],
      "metadata": {
        "id": "Vx1K3SEkDc1_"
      },
      "execution_count": 20,
      "outputs": []
    },
    {
      "cell_type": "code",
      "source": [
        "# Test for find_books_by_author\n",
        "books_by_author = find_books_by_author(inventory, 'George Orwell')\n",
        "print(books_by_author)  # Should print an empty list since '1984' was removed"
      ],
      "metadata": {
        "id": "GpTnEGjtEXTg",
        "colab": {
          "base_uri": "https://localhost:8080/"
        },
        "outputId": "2c66d42a-2767-445b-b616-08a9c3b46e79"
      },
      "execution_count": 21,
      "outputs": [
        {
          "output_type": "stream",
          "name": "stdout",
          "text": [
            "[]\n"
          ]
        }
      ]
    },
    {
      "cell_type": "markdown",
      "source": [
        "### Calculate Total value function\n",
        "\n",
        "   - **Function**: `calculate_total_value(inventory)`\n",
        "   - **Description**: Calculates and returns the total value of all books in the inventory.\n",
        "   - **Arguments**: `inventory`: A dictionary representing the existing inventory.\n",
        "   - **Return**: Total value (float)\n",
        "   - **Example**:\n",
        "     ```python\n",
        "     total_value = calculate_total_value(inventory)\n",
        "     ```\n",
        "\n",
        "The test calculates the total value of the inventory and prints it to verify the total value calculation."
      ],
      "metadata": {
        "id": "iWeUP2tmEZjR"
      }
    },
    {
      "cell_type": "code",
      "source": [
        "def calculate_total_value(inventory):\n",
        "  # Start with a total value of 0\n",
        "  total_value = 0.0\n",
        "  # Go through every book in the inventory\n",
        "  for title, details in inventory.items():\n",
        "    # Get price and stock for the current book\n",
        "      price = details[\"price\"]\n",
        "      stock = details[\"stock\"]\n",
        "    # Multiply value by stock to get value of this book\n",
        "      book_value = price * stock\n",
        "    # Add this book's value to the total\n",
        "      total_value += book_value\n",
        "\n",
        "    # Return the final total value\n",
        "  return total_value\n"
      ],
      "metadata": {
        "id": "FqHpeyzmDedv"
      },
      "execution_count": 22,
      "outputs": []
    },
    {
      "cell_type": "code",
      "source": [
        "# Test for calculate_total_value\n",
        "total_value = calculate_total_value(inventory)\n",
        "print(total_value)  # Should print the total value of the inventory"
      ],
      "metadata": {
        "id": "AlR-0HAYEb5G",
        "colab": {
          "base_uri": "https://localhost:8080/"
        },
        "outputId": "eabbd30c-f684-4d13-93c0-d7983a557866"
      },
      "execution_count": 23,
      "outputs": [
        {
          "output_type": "stream",
          "name": "stdout",
          "text": [
            "959.3699999999999\n"
          ]
        }
      ]
    },
    {
      "cell_type": "markdown",
      "source": [
        "### Display all genres function\n",
        "\n",
        "   - **Function**: `display_all_genres(inventory)`\n",
        "   - **Description**: Returns a set of all unique genres in the inventory.\n",
        "   - **Arguments**: `inventory`: A dictionary representing the existing inventory.\n",
        "   - **Return**: A set of unique genres\n",
        "   - **Example**:\n",
        "     ```python\n",
        "     genres = display_all_genres(inventory)\n",
        "     ```\n",
        "\n",
        "The test displays all unique genres in the inventory and prints the result to verify the set of unique genres."
      ],
      "metadata": {
        "id": "olDjDpkREdcn"
      }
    },
    {
      "cell_type": "code",
      "source": [
        "def display_all_genres(inventory):\n",
        "  # Create an empty list of all genres\n",
        "  all_genres = []\n",
        "  # Go through all the genres in the inventory\n",
        "  for title, details in inventory.items():\n",
        "    # Get all genres and add it to the list\n",
        "    genre = details[\"genre\"]\n",
        "    if genre not in all_genres:\n",
        "     all_genres.append(genre)\n",
        "  return all_genres\n"
      ],
      "metadata": {
        "id": "L8VSJPb5Dfwe"
      },
      "execution_count": 24,
      "outputs": []
    },
    {
      "cell_type": "code",
      "source": [
        "# Test for display_all_genres\n",
        "genres = display_all_genres(inventory)\n",
        "print(genres)  # Should print the set of unique genres in the inventory"
      ],
      "metadata": {
        "id": "Rqa-gefbEg0A",
        "colab": {
          "base_uri": "https://localhost:8080/"
        },
        "outputId": "d242a76e-61e7-4c4a-e3a3-2c4a06a202b1"
      },
      "execution_count": 25,
      "outputs": [
        {
          "output_type": "stream",
          "name": "stdout",
          "text": [
            "['Fiction', 'Science Fiction', 'Fantasy', 'Mystery', 'Romance', 'Historical Fiction', 'Biography', 'Self-Help']\n"
          ]
        }
      ]
    }
  ]
}